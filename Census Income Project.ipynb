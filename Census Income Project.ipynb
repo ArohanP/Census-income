{
 "cells": [
  {
   "cell_type": "code",
   "execution_count": 100,
   "id": "fefd484c",
   "metadata": {},
   "outputs": [],
   "source": [
    "import pandas as pd\n",
    "import numpy as np\n",
    "import matplotlib.pyplot as plt\n",
    "from sklearn.model_selection import train_test_split\n",
    "from sklearn.linear_model import LinearRegression\n",
    "from sklearn.linear_model import LogisticRegression\n",
    "from sklearn.preprocessing import LabelEncoder\n",
    "from sklearn.tree import DecisionTreeClassifier\n",
    "from sklearn.ensemble import RandomForestClassifier\n",
    "from sklearn.metrics import mean_squared_error, confusion_matrix"
   ]
  },
  {
   "cell_type": "code",
   "execution_count": 101,
   "id": "5b9938cc",
   "metadata": {},
   "outputs": [],
   "source": [
    "census=pd.read_csv('census-income.csv')"
   ]
  },
  {
   "cell_type": "code",
   "execution_count": 102,
   "id": "44a3a30a",
   "metadata": {},
   "outputs": [],
   "source": [
    "census=pd.DataFrame(census)"
   ]
  },
  {
   "cell_type": "code",
   "execution_count": 103,
   "id": "bd7c3b98",
   "metadata": {},
   "outputs": [
    {
     "name": "stdout",
     "output_type": "stream",
     "text": [
      "<class 'pandas.core.frame.DataFrame'>\n"
     ]
    }
   ],
   "source": [
    "print(type(census))"
   ]
  },
  {
   "cell_type": "markdown",
   "id": "238c0668",
   "metadata": {},
   "source": [
    "# Data Preprocessing"
   ]
  },
  {
   "cell_type": "code",
   "execution_count": 104,
   "id": "1c29e8c5",
   "metadata": {
    "scrolled": true
   },
   "outputs": [
    {
     "data": {
      "text/plain": [
       "age                0\n",
       " workclass         0\n",
       " fnlwgt            0\n",
       " education         0\n",
       " education-num     0\n",
       " marital-status    0\n",
       " occupation        0\n",
       " relationship      0\n",
       " race              0\n",
       " sex               0\n",
       " capital-gain      0\n",
       " capital-loss      0\n",
       " hours-per-week    0\n",
       " native-country    0\n",
       "                   0\n",
       "dtype: int64"
      ]
     },
     "execution_count": 104,
     "metadata": {},
     "output_type": "execute_result"
    }
   ],
   "source": [
    "census.isnull().sum()"
   ]
  },
  {
   "cell_type": "code",
   "execution_count": 105,
   "id": "a3091a3e",
   "metadata": {},
   "outputs": [],
   "source": [
    "census=census.dropna(axis=0)"
   ]
  },
  {
   "cell_type": "markdown",
   "id": "b0e35fdb",
   "metadata": {},
   "source": [
    "# Data Manipulation"
   ]
  },
  {
   "cell_type": "markdown",
   "id": "e121860e",
   "metadata": {},
   "source": [
    "## 1)"
   ]
  },
  {
   "cell_type": "code",
   "execution_count": 106,
   "id": "33182dfc",
   "metadata": {},
   "outputs": [],
   "source": [
    "census_ed=census[' education']"
   ]
  },
  {
   "cell_type": "markdown",
   "id": "82df7d7f",
   "metadata": {},
   "source": [
    "## 2)"
   ]
  },
  {
   "cell_type": "code",
   "execution_count": 107,
   "id": "3811baca",
   "metadata": {},
   "outputs": [],
   "source": [
    "census_seq=census.iloc[:,:8]"
   ]
  },
  {
   "cell_type": "markdown",
   "id": "bd35a413",
   "metadata": {},
   "source": [
    "## 3)"
   ]
  },
  {
   "cell_type": "code",
   "execution_count": 108,
   "id": "63f05ee3",
   "metadata": {},
   "outputs": [],
   "source": [
    "\n",
    "census_col=census.iloc[:,[5,8,11]]"
   ]
  },
  {
   "cell_type": "markdown",
   "id": "de24f2cd",
   "metadata": {},
   "source": [
    "## 4) "
   ]
  },
  {
   "cell_type": "code",
   "execution_count": 109,
   "id": "65975a37",
   "metadata": {},
   "outputs": [],
   "source": [
    "male_gov=census[(census[' sex']==' Male')&(census[' workclass']==' State-gov')]"
   ]
  },
  {
   "cell_type": "markdown",
   "id": "673c812c",
   "metadata": {},
   "source": [
    "## 5)"
   ]
  },
  {
   "cell_type": "code",
   "execution_count": 110,
   "id": "1654d3a6",
   "metadata": {},
   "outputs": [],
   "source": [
    "census_us=census[census['age']==39]"
   ]
  },
  {
   "cell_type": "code",
   "execution_count": 111,
   "id": "19e3206e",
   "metadata": {},
   "outputs": [],
   "source": [
    "census_us=census_us[(census_us[' education']==' Bachelors')|(census_us[' native-country']==' United-States')]"
   ]
  },
  {
   "cell_type": "code",
   "execution_count": 112,
   "id": "360cdc62",
   "metadata": {},
   "outputs": [
    {
     "data": {
      "text/html": [
       "<div>\n",
       "<style scoped>\n",
       "    .dataframe tbody tr th:only-of-type {\n",
       "        vertical-align: middle;\n",
       "    }\n",
       "\n",
       "    .dataframe tbody tr th {\n",
       "        vertical-align: top;\n",
       "    }\n",
       "\n",
       "    .dataframe thead th {\n",
       "        text-align: right;\n",
       "    }\n",
       "</style>\n",
       "<table border=\"1\" class=\"dataframe\">\n",
       "  <thead>\n",
       "    <tr style=\"text-align: right;\">\n",
       "      <th></th>\n",
       "      <th>age</th>\n",
       "      <th>workclass</th>\n",
       "      <th>fnlwgt</th>\n",
       "      <th>education</th>\n",
       "      <th>education-num</th>\n",
       "      <th>marital-status</th>\n",
       "      <th>occupation</th>\n",
       "      <th>relationship</th>\n",
       "      <th>race</th>\n",
       "      <th>sex</th>\n",
       "      <th>capital-gain</th>\n",
       "      <th>capital-loss</th>\n",
       "      <th>hours-per-week</th>\n",
       "      <th>native-country</th>\n",
       "      <th></th>\n",
       "    </tr>\n",
       "  </thead>\n",
       "  <tbody>\n",
       "    <tr>\n",
       "      <th>0</th>\n",
       "      <td>39</td>\n",
       "      <td>State-gov</td>\n",
       "      <td>77516</td>\n",
       "      <td>Bachelors</td>\n",
       "      <td>13</td>\n",
       "      <td>Never-married</td>\n",
       "      <td>Adm-clerical</td>\n",
       "      <td>Not-in-family</td>\n",
       "      <td>White</td>\n",
       "      <td>Male</td>\n",
       "      <td>2174</td>\n",
       "      <td>0</td>\n",
       "      <td>40</td>\n",
       "      <td>United-States</td>\n",
       "      <td>&lt;=50K</td>\n",
       "    </tr>\n",
       "    <tr>\n",
       "      <th>1</th>\n",
       "      <td>50</td>\n",
       "      <td>Self-emp-not-inc</td>\n",
       "      <td>83311</td>\n",
       "      <td>Bachelors</td>\n",
       "      <td>13</td>\n",
       "      <td>Married-civ-spouse</td>\n",
       "      <td>Exec-managerial</td>\n",
       "      <td>Husband</td>\n",
       "      <td>White</td>\n",
       "      <td>Male</td>\n",
       "      <td>0</td>\n",
       "      <td>0</td>\n",
       "      <td>13</td>\n",
       "      <td>United-States</td>\n",
       "      <td>&lt;=50K</td>\n",
       "    </tr>\n",
       "    <tr>\n",
       "      <th>2</th>\n",
       "      <td>38</td>\n",
       "      <td>Private</td>\n",
       "      <td>215646</td>\n",
       "      <td>HS-grad</td>\n",
       "      <td>9</td>\n",
       "      <td>Divorced</td>\n",
       "      <td>Handlers-cleaners</td>\n",
       "      <td>Not-in-family</td>\n",
       "      <td>White</td>\n",
       "      <td>Male</td>\n",
       "      <td>0</td>\n",
       "      <td>0</td>\n",
       "      <td>40</td>\n",
       "      <td>United-States</td>\n",
       "      <td>&lt;=50K</td>\n",
       "    </tr>\n",
       "    <tr>\n",
       "      <th>3</th>\n",
       "      <td>53</td>\n",
       "      <td>Private</td>\n",
       "      <td>234721</td>\n",
       "      <td>11th</td>\n",
       "      <td>7</td>\n",
       "      <td>Married-civ-spouse</td>\n",
       "      <td>Handlers-cleaners</td>\n",
       "      <td>Husband</td>\n",
       "      <td>Black</td>\n",
       "      <td>Male</td>\n",
       "      <td>0</td>\n",
       "      <td>0</td>\n",
       "      <td>40</td>\n",
       "      <td>United-States</td>\n",
       "      <td>&lt;=50K</td>\n",
       "    </tr>\n",
       "    <tr>\n",
       "      <th>4</th>\n",
       "      <td>28</td>\n",
       "      <td>Private</td>\n",
       "      <td>338409</td>\n",
       "      <td>Bachelors</td>\n",
       "      <td>13</td>\n",
       "      <td>Married-civ-spouse</td>\n",
       "      <td>Prof-specialty</td>\n",
       "      <td>Wife</td>\n",
       "      <td>Black</td>\n",
       "      <td>Female</td>\n",
       "      <td>0</td>\n",
       "      <td>0</td>\n",
       "      <td>40</td>\n",
       "      <td>Cuba</td>\n",
       "      <td>&lt;=50K</td>\n",
       "    </tr>\n",
       "  </tbody>\n",
       "</table>\n",
       "</div>"
      ],
      "text/plain": [
       "   age          workclass   fnlwgt   education   education-num  \\\n",
       "0   39          State-gov    77516   Bachelors              13   \n",
       "1   50   Self-emp-not-inc    83311   Bachelors              13   \n",
       "2   38            Private   215646     HS-grad               9   \n",
       "3   53            Private   234721        11th               7   \n",
       "4   28            Private   338409   Bachelors              13   \n",
       "\n",
       "        marital-status          occupation    relationship    race      sex  \\\n",
       "0        Never-married        Adm-clerical   Not-in-family   White     Male   \n",
       "1   Married-civ-spouse     Exec-managerial         Husband   White     Male   \n",
       "2             Divorced   Handlers-cleaners   Not-in-family   White     Male   \n",
       "3   Married-civ-spouse   Handlers-cleaners         Husband   Black     Male   \n",
       "4   Married-civ-spouse      Prof-specialty            Wife   Black   Female   \n",
       "\n",
       "    capital-gain   capital-loss   hours-per-week  native-country          \n",
       "0           2174              0               40   United-States   <=50K  \n",
       "1              0              0               13   United-States   <=50K  \n",
       "2              0              0               40   United-States   <=50K  \n",
       "3              0              0               40   United-States   <=50K  \n",
       "4              0              0               40            Cuba   <=50K  "
      ]
     },
     "execution_count": 112,
     "metadata": {},
     "output_type": "execute_result"
    }
   ],
   "source": [
    "census.head()"
   ]
  },
  {
   "cell_type": "markdown",
   "id": "7d0fddf2",
   "metadata": {},
   "source": [
    "## 6)"
   ]
  },
  {
   "cell_type": "code",
   "execution_count": 113,
   "id": "800fa4d7",
   "metadata": {},
   "outputs": [],
   "source": [
    "census_200=census.sample(n=200)"
   ]
  },
  {
   "cell_type": "markdown",
   "id": "97ee83c2",
   "metadata": {},
   "source": [
    "## 7)"
   ]
  },
  {
   "cell_type": "code",
   "execution_count": 114,
   "id": "8239dc9d",
   "metadata": {},
   "outputs": [
    {
     "data": {
      "text/plain": [
       " workclass       \n",
       " Private             22696\n",
       " Self-emp-not-inc     2541\n",
       " Local-gov            2093\n",
       " ?                    1836\n",
       " State-gov            1298\n",
       " Self-emp-inc         1116\n",
       " Federal-gov           960\n",
       " Without-pay            14\n",
       " Never-worked            7\n",
       "dtype: int64"
      ]
     },
     "execution_count": 114,
     "metadata": {},
     "output_type": "execute_result"
    }
   ],
   "source": [
    "census[[' workclass']].value_counts()"
   ]
  },
  {
   "cell_type": "code",
   "execution_count": 115,
   "id": "6b6de326",
   "metadata": {},
   "outputs": [],
   "source": [
    "census_Private=census[census[' workclass']==' Private']\n",
    "census_Self=census[census[' workclass']==' Self-emp-not-inc']\n",
    "census_Localgov=census[census[' workclass']==' Local-gov']\n",
    "census_Stategov=census[census[' workclass']==' State-gov']\n",
    "census_selfinc=census[census[' workclass']==' Self-emp-inc']\n",
    "census_Federalgov=census[census[' workclass']==' Federal-gov']\n",
    "census_withoutpay=census[census[' workclass']==' Without-pay']\n",
    "census_Neverworked=census[census[' workclass']==' Never-worked']"
   ]
  },
  {
   "cell_type": "code",
   "execution_count": 116,
   "id": "17bd338a",
   "metadata": {},
   "outputs": [
    {
     "data": {
      "text/plain": [
       "889.2177916813536"
      ]
     },
     "execution_count": 116,
     "metadata": {},
     "output_type": "execute_result"
    }
   ],
   "source": [
    "census_Private[' capital-gain'].mean()"
   ]
  },
  {
   "cell_type": "code",
   "execution_count": 117,
   "id": "628dea37",
   "metadata": {},
   "outputs": [
    {
     "data": {
      "text/plain": [
       "1886.0617866981504"
      ]
     },
     "execution_count": 117,
     "metadata": {},
     "output_type": "execute_result"
    }
   ],
   "source": [
    "census_Self[' capital-gain'].mean()"
   ]
  },
  {
   "cell_type": "code",
   "execution_count": 118,
   "id": "e92db6b9",
   "metadata": {},
   "outputs": [
    {
     "data": {
      "text/plain": [
       "880.202580028667"
      ]
     },
     "execution_count": 118,
     "metadata": {},
     "output_type": "execute_result"
    }
   ],
   "source": [
    "census_Localgov[' capital-gain'].mean()"
   ]
  },
  {
   "cell_type": "code",
   "execution_count": 119,
   "id": "ef6adf35",
   "metadata": {},
   "outputs": [
    {
     "data": {
      "text/plain": [
       "701.6995377503852"
      ]
     },
     "execution_count": 119,
     "metadata": {},
     "output_type": "execute_result"
    }
   ],
   "source": [
    "census_Stategov[' capital-gain'].mean()"
   ]
  },
  {
   "cell_type": "code",
   "execution_count": 120,
   "id": "b3039008",
   "metadata": {},
   "outputs": [
    {
     "data": {
      "text/plain": [
       "4875.693548387097"
      ]
     },
     "execution_count": 120,
     "metadata": {},
     "output_type": "execute_result"
    }
   ],
   "source": [
    "census_selfinc[' capital-gain'].mean()"
   ]
  },
  {
   "cell_type": "code",
   "execution_count": 121,
   "id": "bd2547b9",
   "metadata": {},
   "outputs": [
    {
     "data": {
      "text/plain": [
       "833.2322916666667"
      ]
     },
     "execution_count": 121,
     "metadata": {},
     "output_type": "execute_result"
    }
   ],
   "source": [
    "census_Federalgov[' capital-gain'].mean()"
   ]
  },
  {
   "cell_type": "code",
   "execution_count": 122,
   "id": "df5b92e2",
   "metadata": {},
   "outputs": [
    {
     "data": {
      "text/plain": [
       "487.85714285714283"
      ]
     },
     "execution_count": 122,
     "metadata": {},
     "output_type": "execute_result"
    }
   ],
   "source": [
    "census_withoutpay[' capital-gain'].mean()"
   ]
  },
  {
   "cell_type": "code",
   "execution_count": 123,
   "id": "1c5780e1",
   "metadata": {},
   "outputs": [
    {
     "data": {
      "text/plain": [
       "0.0"
      ]
     },
     "execution_count": 123,
     "metadata": {},
     "output_type": "execute_result"
    }
   ],
   "source": [
    "census_Neverworked[' capital-gain'].mean()"
   ]
  },
  {
   "cell_type": "markdown",
   "id": "de3ad769",
   "metadata": {},
   "source": [
    "## 8)"
   ]
  },
  {
   "cell_type": "code",
   "execution_count": 124,
   "id": "82c8ad85",
   "metadata": {},
   "outputs": [],
   "source": [
    "census_morethan50000=census[census[' ']==' >50K']"
   ]
  },
  {
   "cell_type": "code",
   "execution_count": 125,
   "id": "446b061a",
   "metadata": {},
   "outputs": [
    {
     "data": {
      "text/html": [
       "<div>\n",
       "<style scoped>\n",
       "    .dataframe tbody tr th:only-of-type {\n",
       "        vertical-align: middle;\n",
       "    }\n",
       "\n",
       "    .dataframe tbody tr th {\n",
       "        vertical-align: top;\n",
       "    }\n",
       "\n",
       "    .dataframe thead th {\n",
       "        text-align: right;\n",
       "    }\n",
       "</style>\n",
       "<table border=\"1\" class=\"dataframe\">\n",
       "  <thead>\n",
       "    <tr style=\"text-align: right;\">\n",
       "      <th></th>\n",
       "      <th>age</th>\n",
       "      <th>workclass</th>\n",
       "      <th>fnlwgt</th>\n",
       "      <th>education</th>\n",
       "      <th>education-num</th>\n",
       "      <th>marital-status</th>\n",
       "      <th>occupation</th>\n",
       "      <th>relationship</th>\n",
       "      <th>race</th>\n",
       "      <th>sex</th>\n",
       "      <th>capital-gain</th>\n",
       "      <th>capital-loss</th>\n",
       "      <th>hours-per-week</th>\n",
       "      <th>native-country</th>\n",
       "      <th></th>\n",
       "    </tr>\n",
       "  </thead>\n",
       "  <tbody>\n",
       "    <tr>\n",
       "      <th>7</th>\n",
       "      <td>52</td>\n",
       "      <td>Self-emp-not-inc</td>\n",
       "      <td>209642</td>\n",
       "      <td>HS-grad</td>\n",
       "      <td>9</td>\n",
       "      <td>Married-civ-spouse</td>\n",
       "      <td>Exec-managerial</td>\n",
       "      <td>Husband</td>\n",
       "      <td>White</td>\n",
       "      <td>Male</td>\n",
       "      <td>0</td>\n",
       "      <td>0</td>\n",
       "      <td>45</td>\n",
       "      <td>United-States</td>\n",
       "      <td>&gt;50K</td>\n",
       "    </tr>\n",
       "    <tr>\n",
       "      <th>9</th>\n",
       "      <td>42</td>\n",
       "      <td>Private</td>\n",
       "      <td>159449</td>\n",
       "      <td>Bachelors</td>\n",
       "      <td>13</td>\n",
       "      <td>Married-civ-spouse</td>\n",
       "      <td>Exec-managerial</td>\n",
       "      <td>Husband</td>\n",
       "      <td>White</td>\n",
       "      <td>Male</td>\n",
       "      <td>5178</td>\n",
       "      <td>0</td>\n",
       "      <td>40</td>\n",
       "      <td>United-States</td>\n",
       "      <td>&gt;50K</td>\n",
       "    </tr>\n",
       "    <tr>\n",
       "      <th>10</th>\n",
       "      <td>37</td>\n",
       "      <td>Private</td>\n",
       "      <td>280464</td>\n",
       "      <td>Some-college</td>\n",
       "      <td>10</td>\n",
       "      <td>Married-civ-spouse</td>\n",
       "      <td>Exec-managerial</td>\n",
       "      <td>Husband</td>\n",
       "      <td>Black</td>\n",
       "      <td>Male</td>\n",
       "      <td>0</td>\n",
       "      <td>0</td>\n",
       "      <td>80</td>\n",
       "      <td>United-States</td>\n",
       "      <td>&gt;50K</td>\n",
       "    </tr>\n",
       "    <tr>\n",
       "      <th>11</th>\n",
       "      <td>30</td>\n",
       "      <td>State-gov</td>\n",
       "      <td>141297</td>\n",
       "      <td>Bachelors</td>\n",
       "      <td>13</td>\n",
       "      <td>Married-civ-spouse</td>\n",
       "      <td>Prof-specialty</td>\n",
       "      <td>Husband</td>\n",
       "      <td>Asian-Pac-Islander</td>\n",
       "      <td>Male</td>\n",
       "      <td>0</td>\n",
       "      <td>0</td>\n",
       "      <td>40</td>\n",
       "      <td>India</td>\n",
       "      <td>&gt;50K</td>\n",
       "    </tr>\n",
       "    <tr>\n",
       "      <th>14</th>\n",
       "      <td>40</td>\n",
       "      <td>Private</td>\n",
       "      <td>121772</td>\n",
       "      <td>Assoc-voc</td>\n",
       "      <td>11</td>\n",
       "      <td>Married-civ-spouse</td>\n",
       "      <td>Craft-repair</td>\n",
       "      <td>Husband</td>\n",
       "      <td>Asian-Pac-Islander</td>\n",
       "      <td>Male</td>\n",
       "      <td>0</td>\n",
       "      <td>0</td>\n",
       "      <td>40</td>\n",
       "      <td>?</td>\n",
       "      <td>&gt;50K</td>\n",
       "    </tr>\n",
       "    <tr>\n",
       "      <th>...</th>\n",
       "      <td>...</td>\n",
       "      <td>...</td>\n",
       "      <td>...</td>\n",
       "      <td>...</td>\n",
       "      <td>...</td>\n",
       "      <td>...</td>\n",
       "      <td>...</td>\n",
       "      <td>...</td>\n",
       "      <td>...</td>\n",
       "      <td>...</td>\n",
       "      <td>...</td>\n",
       "      <td>...</td>\n",
       "      <td>...</td>\n",
       "      <td>...</td>\n",
       "      <td>...</td>\n",
       "    </tr>\n",
       "    <tr>\n",
       "      <th>32532</th>\n",
       "      <td>34</td>\n",
       "      <td>Private</td>\n",
       "      <td>204461</td>\n",
       "      <td>Doctorate</td>\n",
       "      <td>16</td>\n",
       "      <td>Married-civ-spouse</td>\n",
       "      <td>Prof-specialty</td>\n",
       "      <td>Husband</td>\n",
       "      <td>White</td>\n",
       "      <td>Male</td>\n",
       "      <td>0</td>\n",
       "      <td>0</td>\n",
       "      <td>60</td>\n",
       "      <td>United-States</td>\n",
       "      <td>&gt;50K</td>\n",
       "    </tr>\n",
       "    <tr>\n",
       "      <th>32533</th>\n",
       "      <td>54</td>\n",
       "      <td>Private</td>\n",
       "      <td>337992</td>\n",
       "      <td>Bachelors</td>\n",
       "      <td>13</td>\n",
       "      <td>Married-civ-spouse</td>\n",
       "      <td>Exec-managerial</td>\n",
       "      <td>Husband</td>\n",
       "      <td>Asian-Pac-Islander</td>\n",
       "      <td>Male</td>\n",
       "      <td>0</td>\n",
       "      <td>0</td>\n",
       "      <td>50</td>\n",
       "      <td>Japan</td>\n",
       "      <td>&gt;50K</td>\n",
       "    </tr>\n",
       "    <tr>\n",
       "      <th>32539</th>\n",
       "      <td>71</td>\n",
       "      <td>?</td>\n",
       "      <td>287372</td>\n",
       "      <td>Doctorate</td>\n",
       "      <td>16</td>\n",
       "      <td>Married-civ-spouse</td>\n",
       "      <td>?</td>\n",
       "      <td>Husband</td>\n",
       "      <td>White</td>\n",
       "      <td>Male</td>\n",
       "      <td>0</td>\n",
       "      <td>0</td>\n",
       "      <td>10</td>\n",
       "      <td>United-States</td>\n",
       "      <td>&gt;50K</td>\n",
       "    </tr>\n",
       "    <tr>\n",
       "      <th>32554</th>\n",
       "      <td>53</td>\n",
       "      <td>Private</td>\n",
       "      <td>321865</td>\n",
       "      <td>Masters</td>\n",
       "      <td>14</td>\n",
       "      <td>Married-civ-spouse</td>\n",
       "      <td>Exec-managerial</td>\n",
       "      <td>Husband</td>\n",
       "      <td>White</td>\n",
       "      <td>Male</td>\n",
       "      <td>0</td>\n",
       "      <td>0</td>\n",
       "      <td>40</td>\n",
       "      <td>United-States</td>\n",
       "      <td>&gt;50K</td>\n",
       "    </tr>\n",
       "    <tr>\n",
       "      <th>32557</th>\n",
       "      <td>40</td>\n",
       "      <td>Private</td>\n",
       "      <td>154374</td>\n",
       "      <td>HS-grad</td>\n",
       "      <td>9</td>\n",
       "      <td>Married-civ-spouse</td>\n",
       "      <td>Machine-op-inspct</td>\n",
       "      <td>Husband</td>\n",
       "      <td>White</td>\n",
       "      <td>Male</td>\n",
       "      <td>0</td>\n",
       "      <td>0</td>\n",
       "      <td>40</td>\n",
       "      <td>United-States</td>\n",
       "      <td>&gt;50K</td>\n",
       "    </tr>\n",
       "  </tbody>\n",
       "</table>\n",
       "<p>6662 rows × 15 columns</p>\n",
       "</div>"
      ],
      "text/plain": [
       "       age          workclass   fnlwgt      education   education-num  \\\n",
       "7       52   Self-emp-not-inc   209642        HS-grad               9   \n",
       "9       42            Private   159449      Bachelors              13   \n",
       "10      37            Private   280464   Some-college              10   \n",
       "11      30          State-gov   141297      Bachelors              13   \n",
       "14      40            Private   121772      Assoc-voc              11   \n",
       "...    ...                ...      ...            ...             ...   \n",
       "32532   34            Private   204461      Doctorate              16   \n",
       "32533   54            Private   337992      Bachelors              13   \n",
       "32539   71                  ?   287372      Doctorate              16   \n",
       "32554   53            Private   321865        Masters              14   \n",
       "32557   40            Private   154374        HS-grad               9   \n",
       "\n",
       "            marital-status          occupation  relationship  \\\n",
       "7       Married-civ-spouse     Exec-managerial       Husband   \n",
       "9       Married-civ-spouse     Exec-managerial       Husband   \n",
       "10      Married-civ-spouse     Exec-managerial       Husband   \n",
       "11      Married-civ-spouse      Prof-specialty       Husband   \n",
       "14      Married-civ-spouse        Craft-repair       Husband   \n",
       "...                    ...                 ...           ...   \n",
       "32532   Married-civ-spouse      Prof-specialty       Husband   \n",
       "32533   Married-civ-spouse     Exec-managerial       Husband   \n",
       "32539   Married-civ-spouse                   ?       Husband   \n",
       "32554   Married-civ-spouse     Exec-managerial       Husband   \n",
       "32557   Married-civ-spouse   Machine-op-inspct       Husband   \n",
       "\n",
       "                      race    sex   capital-gain   capital-loss  \\\n",
       "7                    White   Male              0              0   \n",
       "9                    White   Male           5178              0   \n",
       "10                   Black   Male              0              0   \n",
       "11      Asian-Pac-Islander   Male              0              0   \n",
       "14      Asian-Pac-Islander   Male              0              0   \n",
       "...                    ...    ...            ...            ...   \n",
       "32532                White   Male              0              0   \n",
       "32533   Asian-Pac-Islander   Male              0              0   \n",
       "32539                White   Male              0              0   \n",
       "32554                White   Male              0              0   \n",
       "32557                White   Male              0              0   \n",
       "\n",
       "        hours-per-week  native-country         \n",
       "7                   45   United-States   >50K  \n",
       "9                   40   United-States   >50K  \n",
       "10                  80   United-States   >50K  \n",
       "11                  40           India   >50K  \n",
       "14                  40               ?   >50K  \n",
       "...                ...             ...    ...  \n",
       "32532               60   United-States   >50K  \n",
       "32533               50           Japan   >50K  \n",
       "32539               10   United-States   >50K  \n",
       "32554               40   United-States   >50K  \n",
       "32557               40   United-States   >50K  \n",
       "\n",
       "[6662 rows x 15 columns]"
      ]
     },
     "execution_count": 125,
     "metadata": {},
     "output_type": "execute_result"
    }
   ],
   "source": [
    "census_morethan50000[census_morethan50000[' sex']==' Male']"
   ]
  },
  {
   "cell_type": "code",
   "execution_count": 126,
   "id": "5282e22d",
   "metadata": {},
   "outputs": [
    {
     "data": {
      "text/html": [
       "<div>\n",
       "<style scoped>\n",
       "    .dataframe tbody tr th:only-of-type {\n",
       "        vertical-align: middle;\n",
       "    }\n",
       "\n",
       "    .dataframe tbody tr th {\n",
       "        vertical-align: top;\n",
       "    }\n",
       "\n",
       "    .dataframe thead th {\n",
       "        text-align: right;\n",
       "    }\n",
       "</style>\n",
       "<table border=\"1\" class=\"dataframe\">\n",
       "  <thead>\n",
       "    <tr style=\"text-align: right;\">\n",
       "      <th></th>\n",
       "      <th>age</th>\n",
       "      <th>workclass</th>\n",
       "      <th>fnlwgt</th>\n",
       "      <th>education</th>\n",
       "      <th>education-num</th>\n",
       "      <th>marital-status</th>\n",
       "      <th>occupation</th>\n",
       "      <th>relationship</th>\n",
       "      <th>race</th>\n",
       "      <th>sex</th>\n",
       "      <th>capital-gain</th>\n",
       "      <th>capital-loss</th>\n",
       "      <th>hours-per-week</th>\n",
       "      <th>native-country</th>\n",
       "      <th></th>\n",
       "    </tr>\n",
       "  </thead>\n",
       "  <tbody>\n",
       "    <tr>\n",
       "      <th>8</th>\n",
       "      <td>31</td>\n",
       "      <td>Private</td>\n",
       "      <td>45781</td>\n",
       "      <td>Masters</td>\n",
       "      <td>14</td>\n",
       "      <td>Never-married</td>\n",
       "      <td>Prof-specialty</td>\n",
       "      <td>Not-in-family</td>\n",
       "      <td>White</td>\n",
       "      <td>Female</td>\n",
       "      <td>14084</td>\n",
       "      <td>0</td>\n",
       "      <td>50</td>\n",
       "      <td>United-States</td>\n",
       "      <td>&gt;50K</td>\n",
       "    </tr>\n",
       "    <tr>\n",
       "      <th>19</th>\n",
       "      <td>43</td>\n",
       "      <td>Self-emp-not-inc</td>\n",
       "      <td>292175</td>\n",
       "      <td>Masters</td>\n",
       "      <td>14</td>\n",
       "      <td>Divorced</td>\n",
       "      <td>Exec-managerial</td>\n",
       "      <td>Unmarried</td>\n",
       "      <td>White</td>\n",
       "      <td>Female</td>\n",
       "      <td>0</td>\n",
       "      <td>0</td>\n",
       "      <td>45</td>\n",
       "      <td>United-States</td>\n",
       "      <td>&gt;50K</td>\n",
       "    </tr>\n",
       "    <tr>\n",
       "      <th>52</th>\n",
       "      <td>47</td>\n",
       "      <td>Private</td>\n",
       "      <td>51835</td>\n",
       "      <td>Prof-school</td>\n",
       "      <td>15</td>\n",
       "      <td>Married-civ-spouse</td>\n",
       "      <td>Prof-specialty</td>\n",
       "      <td>Wife</td>\n",
       "      <td>White</td>\n",
       "      <td>Female</td>\n",
       "      <td>0</td>\n",
       "      <td>1902</td>\n",
       "      <td>60</td>\n",
       "      <td>Honduras</td>\n",
       "      <td>&gt;50K</td>\n",
       "    </tr>\n",
       "    <tr>\n",
       "      <th>67</th>\n",
       "      <td>53</td>\n",
       "      <td>Private</td>\n",
       "      <td>169846</td>\n",
       "      <td>HS-grad</td>\n",
       "      <td>9</td>\n",
       "      <td>Married-civ-spouse</td>\n",
       "      <td>Adm-clerical</td>\n",
       "      <td>Wife</td>\n",
       "      <td>White</td>\n",
       "      <td>Female</td>\n",
       "      <td>0</td>\n",
       "      <td>0</td>\n",
       "      <td>40</td>\n",
       "      <td>United-States</td>\n",
       "      <td>&gt;50K</td>\n",
       "    </tr>\n",
       "    <tr>\n",
       "      <th>84</th>\n",
       "      <td>44</td>\n",
       "      <td>Private</td>\n",
       "      <td>343591</td>\n",
       "      <td>HS-grad</td>\n",
       "      <td>9</td>\n",
       "      <td>Divorced</td>\n",
       "      <td>Craft-repair</td>\n",
       "      <td>Not-in-family</td>\n",
       "      <td>White</td>\n",
       "      <td>Female</td>\n",
       "      <td>14344</td>\n",
       "      <td>0</td>\n",
       "      <td>40</td>\n",
       "      <td>United-States</td>\n",
       "      <td>&gt;50K</td>\n",
       "    </tr>\n",
       "    <tr>\n",
       "      <th>...</th>\n",
       "      <td>...</td>\n",
       "      <td>...</td>\n",
       "      <td>...</td>\n",
       "      <td>...</td>\n",
       "      <td>...</td>\n",
       "      <td>...</td>\n",
       "      <td>...</td>\n",
       "      <td>...</td>\n",
       "      <td>...</td>\n",
       "      <td>...</td>\n",
       "      <td>...</td>\n",
       "      <td>...</td>\n",
       "      <td>...</td>\n",
       "      <td>...</td>\n",
       "      <td>...</td>\n",
       "    </tr>\n",
       "    <tr>\n",
       "      <th>32530</th>\n",
       "      <td>35</td>\n",
       "      <td>?</td>\n",
       "      <td>320084</td>\n",
       "      <td>Bachelors</td>\n",
       "      <td>13</td>\n",
       "      <td>Married-civ-spouse</td>\n",
       "      <td>?</td>\n",
       "      <td>Wife</td>\n",
       "      <td>White</td>\n",
       "      <td>Female</td>\n",
       "      <td>0</td>\n",
       "      <td>0</td>\n",
       "      <td>55</td>\n",
       "      <td>United-States</td>\n",
       "      <td>&gt;50K</td>\n",
       "    </tr>\n",
       "    <tr>\n",
       "      <th>32536</th>\n",
       "      <td>34</td>\n",
       "      <td>Private</td>\n",
       "      <td>160216</td>\n",
       "      <td>Bachelors</td>\n",
       "      <td>13</td>\n",
       "      <td>Never-married</td>\n",
       "      <td>Exec-managerial</td>\n",
       "      <td>Not-in-family</td>\n",
       "      <td>White</td>\n",
       "      <td>Female</td>\n",
       "      <td>0</td>\n",
       "      <td>0</td>\n",
       "      <td>55</td>\n",
       "      <td>United-States</td>\n",
       "      <td>&gt;50K</td>\n",
       "    </tr>\n",
       "    <tr>\n",
       "      <th>32538</th>\n",
       "      <td>38</td>\n",
       "      <td>Private</td>\n",
       "      <td>139180</td>\n",
       "      <td>Bachelors</td>\n",
       "      <td>13</td>\n",
       "      <td>Divorced</td>\n",
       "      <td>Prof-specialty</td>\n",
       "      <td>Unmarried</td>\n",
       "      <td>Black</td>\n",
       "      <td>Female</td>\n",
       "      <td>15020</td>\n",
       "      <td>0</td>\n",
       "      <td>45</td>\n",
       "      <td>United-States</td>\n",
       "      <td>&gt;50K</td>\n",
       "    </tr>\n",
       "    <tr>\n",
       "      <th>32545</th>\n",
       "      <td>39</td>\n",
       "      <td>Local-gov</td>\n",
       "      <td>111499</td>\n",
       "      <td>Assoc-acdm</td>\n",
       "      <td>12</td>\n",
       "      <td>Married-civ-spouse</td>\n",
       "      <td>Adm-clerical</td>\n",
       "      <td>Wife</td>\n",
       "      <td>White</td>\n",
       "      <td>Female</td>\n",
       "      <td>0</td>\n",
       "      <td>0</td>\n",
       "      <td>20</td>\n",
       "      <td>United-States</td>\n",
       "      <td>&gt;50K</td>\n",
       "    </tr>\n",
       "    <tr>\n",
       "      <th>32560</th>\n",
       "      <td>52</td>\n",
       "      <td>Self-emp-inc</td>\n",
       "      <td>287927</td>\n",
       "      <td>HS-grad</td>\n",
       "      <td>9</td>\n",
       "      <td>Married-civ-spouse</td>\n",
       "      <td>Exec-managerial</td>\n",
       "      <td>Wife</td>\n",
       "      <td>White</td>\n",
       "      <td>Female</td>\n",
       "      <td>15024</td>\n",
       "      <td>0</td>\n",
       "      <td>40</td>\n",
       "      <td>United-States</td>\n",
       "      <td>&gt;50K</td>\n",
       "    </tr>\n",
       "  </tbody>\n",
       "</table>\n",
       "<p>1179 rows × 15 columns</p>\n",
       "</div>"
      ],
      "text/plain": [
       "       age          workclass   fnlwgt     education   education-num  \\\n",
       "8       31            Private    45781       Masters              14   \n",
       "19      43   Self-emp-not-inc   292175       Masters              14   \n",
       "52      47            Private    51835   Prof-school              15   \n",
       "67      53            Private   169846       HS-grad               9   \n",
       "84      44            Private   343591       HS-grad               9   \n",
       "...    ...                ...      ...           ...             ...   \n",
       "32530   35                  ?   320084     Bachelors              13   \n",
       "32536   34            Private   160216     Bachelors              13   \n",
       "32538   38            Private   139180     Bachelors              13   \n",
       "32545   39          Local-gov   111499    Assoc-acdm              12   \n",
       "32560   52       Self-emp-inc   287927       HS-grad               9   \n",
       "\n",
       "            marital-status        occupation    relationship    race      sex  \\\n",
       "8            Never-married    Prof-specialty   Not-in-family   White   Female   \n",
       "19                Divorced   Exec-managerial       Unmarried   White   Female   \n",
       "52      Married-civ-spouse    Prof-specialty            Wife   White   Female   \n",
       "67      Married-civ-spouse      Adm-clerical            Wife   White   Female   \n",
       "84                Divorced      Craft-repair   Not-in-family   White   Female   \n",
       "...                    ...               ...             ...     ...      ...   \n",
       "32530   Married-civ-spouse                 ?            Wife   White   Female   \n",
       "32536        Never-married   Exec-managerial   Not-in-family   White   Female   \n",
       "32538             Divorced    Prof-specialty       Unmarried   Black   Female   \n",
       "32545   Married-civ-spouse      Adm-clerical            Wife   White   Female   \n",
       "32560   Married-civ-spouse   Exec-managerial            Wife   White   Female   \n",
       "\n",
       "        capital-gain   capital-loss   hours-per-week  native-country         \n",
       "8              14084              0               50   United-States   >50K  \n",
       "19                 0              0               45   United-States   >50K  \n",
       "52                 0           1902               60        Honduras   >50K  \n",
       "67                 0              0               40   United-States   >50K  \n",
       "84             14344              0               40   United-States   >50K  \n",
       "...              ...            ...              ...             ...    ...  \n",
       "32530              0              0               55   United-States   >50K  \n",
       "32536              0              0               55   United-States   >50K  \n",
       "32538          15020              0               45   United-States   >50K  \n",
       "32545              0              0               20   United-States   >50K  \n",
       "32560          15024              0               40   United-States   >50K  \n",
       "\n",
       "[1179 rows x 15 columns]"
      ]
     },
     "execution_count": 126,
     "metadata": {},
     "output_type": "execute_result"
    }
   ],
   "source": [
    "census_morethan50000[census_morethan50000[' sex']==' Female']"
   ]
  },
  {
   "cell_type": "markdown",
   "id": "b5f329b0",
   "metadata": {},
   "source": [
    "## 9)"
   ]
  },
  {
   "cell_type": "code",
   "execution_count": 127,
   "id": "291b3f31",
   "metadata": {},
   "outputs": [
    {
     "data": {
      "text/plain": [
       "54.460858081754246"
      ]
     },
     "execution_count": 127,
     "metadata": {},
     "output_type": "execute_result"
    }
   ],
   "source": [
    "(census[(census[' workclass']==' Private')&(census[' ']==' <=50K')].shape[0]/census.shape[0])*100"
   ]
  },
  {
   "cell_type": "markdown",
   "id": "de435697",
   "metadata": {},
   "source": [
    "## 10)"
   ]
  },
  {
   "cell_type": "code",
   "execution_count": 128,
   "id": "0eb5c6ce",
   "metadata": {},
   "outputs": [
    {
     "data": {
      "text/plain": [
       " Married-civ-spouse       14976\n",
       " Never-married            10683\n",
       " Divorced                  4443\n",
       " Separated                 1025\n",
       " Widowed                    993\n",
       " Married-spouse-absent      418\n",
       " Married-AF-spouse           23\n",
       "Name:  marital-status, dtype: int64"
      ]
     },
     "execution_count": 128,
     "metadata": {},
     "output_type": "execute_result"
    }
   ],
   "source": [
    "census[' marital-status'].value_counts()"
   ]
  },
  {
   "cell_type": "markdown",
   "id": "8d7c6cab",
   "metadata": {},
   "source": [
    "## 11)"
   ]
  },
  {
   "cell_type": "code",
   "execution_count": 129,
   "id": "2bdad7df",
   "metadata": {},
   "outputs": [
    {
     "name": "stdout",
     "output_type": "stream",
     "text": [
      "Percentage of Married people are - 46.79524584625779\n"
     ]
    }
   ],
   "source": [
    "print(\"Percentage of Married people are - \"+str(((14796+418+23)/census.shape[0])*100))"
   ]
  },
  {
   "cell_type": "code",
   "execution_count": 130,
   "id": "4f557646",
   "metadata": {},
   "outputs": [
    {
     "data": {
      "text/plain": [
       " HS-grad         10501\n",
       " Some-college     7291\n",
       " Bachelors        5355\n",
       " Masters          1723\n",
       " Assoc-voc        1382\n",
       " 11th             1175\n",
       " Assoc-acdm       1067\n",
       " 10th              933\n",
       " 7th-8th           646\n",
       " Prof-school       576\n",
       " 9th               514\n",
       " 12th              433\n",
       " Doctorate         413\n",
       " 5th-6th           333\n",
       " 1st-4th           168\n",
       " Preschool          51\n",
       "Name:  education, dtype: int64"
      ]
     },
     "execution_count": 130,
     "metadata": {},
     "output_type": "execute_result"
    }
   ],
   "source": [
    "census[' education'].value_counts()"
   ]
  },
  {
   "cell_type": "code",
   "execution_count": 131,
   "id": "d6a3a435",
   "metadata": {},
   "outputs": [
    {
     "data": {
      "text/plain": [
       "' >50K'"
      ]
     },
     "execution_count": 131,
     "metadata": {},
     "output_type": "execute_result"
    }
   ],
   "source": [
    "census[' '].iloc[32560]"
   ]
  },
  {
   "cell_type": "code",
   "execution_count": 132,
   "id": "12c15953",
   "metadata": {},
   "outputs": [],
   "source": [
    "df=census[(census[' education']==' HS-grad')&(census[' ']==' >50K')]"
   ]
  },
  {
   "cell_type": "markdown",
   "id": "8d35adfb",
   "metadata": {},
   "source": [
    "## 12)"
   ]
  },
  {
   "cell_type": "code",
   "execution_count": 133,
   "id": "cf3a9226",
   "metadata": {},
   "outputs": [
    {
     "name": "stdout",
     "output_type": "stream",
     "text": [
      "The percentage of high school graduates earning more than 50k is - 5.144190903227788\n"
     ]
    }
   ],
   "source": [
    "print('The percentage of high school graduates earning more than 50k is - '+str((df.shape[0]/census.shape[0])*100))"
   ]
  },
  {
   "cell_type": "markdown",
   "id": "6c27dc7a",
   "metadata": {},
   "source": [
    "# Logistic Regression"
   ]
  },
  {
   "cell_type": "code",
   "execution_count": 141,
   "id": "c57a54da",
   "metadata": {},
   "outputs": [
    {
     "data": {
      "text/plain": [
       "Index(['age', ' workclass', ' fnlwgt', ' education', ' education-num',\n",
       "       ' marital-status', ' occupation', ' relationship', ' race', ' sex',\n",
       "       ' capital-gain', ' capital-loss', ' hours-per-week', ' native-country',\n",
       "       ' '],\n",
       "      dtype='object')"
      ]
     },
     "execution_count": 141,
     "metadata": {},
     "output_type": "execute_result"
    }
   ],
   "source": [
    "census.columns"
   ]
  },
  {
   "cell_type": "code",
   "execution_count": 142,
   "id": "da83cc58",
   "metadata": {},
   "outputs": [
    {
     "data": {
      "text/plain": [
       "      \n",
       " <=50K    24720\n",
       " >50K      7841\n",
       "dtype: int64"
      ]
     },
     "execution_count": 142,
     "metadata": {},
     "output_type": "execute_result"
    }
   ],
   "source": [
    "census[[' ']].value_counts()"
   ]
  },
  {
   "cell_type": "code",
   "execution_count": 143,
   "id": "c13ae5f9",
   "metadata": {},
   "outputs": [],
   "source": [
    "le=LabelEncoder()"
   ]
  },
  {
   "cell_type": "code",
   "execution_count": 144,
   "id": "eee083ba",
   "metadata": {},
   "outputs": [
    {
     "data": {
      "text/plain": [
       "0        False\n",
       "1        False\n",
       "2        False\n",
       "3        False\n",
       "4        False\n",
       "         ...  \n",
       "32556    False\n",
       "32557     True\n",
       "32558    False\n",
       "32559    False\n",
       "32560     True\n",
       "Name:  , Length: 32561, dtype: bool"
      ]
     },
     "execution_count": 144,
     "metadata": {},
     "output_type": "execute_result"
    }
   ],
   "source": [
    "census[' ']==' >50K'"
   ]
  },
  {
   "cell_type": "code",
   "execution_count": 145,
   "id": "0b09626b",
   "metadata": {},
   "outputs": [
    {
     "data": {
      "text/plain": [
       "LabelEncoder()"
      ]
     },
     "execution_count": 145,
     "metadata": {},
     "output_type": "execute_result"
    }
   ],
   "source": [
    "le.fit([' <=50K',' >50K'])"
   ]
  },
  {
   "cell_type": "code",
   "execution_count": 146,
   "id": "98c2b8ed",
   "metadata": {},
   "outputs": [],
   "source": [
    "census['Yearly Income']=le.transform(census[' '])# <=50K-->0;;; >50K-->1"
   ]
  },
  {
   "cell_type": "code",
   "execution_count": 147,
   "id": "3e17e0fc",
   "metadata": {},
   "outputs": [],
   "source": [
    "census=census.drop([' '],axis=1)"
   ]
  },
  {
   "cell_type": "code",
   "execution_count": 148,
   "id": "28d8b963",
   "metadata": {},
   "outputs": [
    {
     "data": {
      "text/html": [
       "<div>\n",
       "<style scoped>\n",
       "    .dataframe tbody tr th:only-of-type {\n",
       "        vertical-align: middle;\n",
       "    }\n",
       "\n",
       "    .dataframe tbody tr th {\n",
       "        vertical-align: top;\n",
       "    }\n",
       "\n",
       "    .dataframe thead th {\n",
       "        text-align: right;\n",
       "    }\n",
       "</style>\n",
       "<table border=\"1\" class=\"dataframe\">\n",
       "  <thead>\n",
       "    <tr style=\"text-align: right;\">\n",
       "      <th></th>\n",
       "      <th>age</th>\n",
       "      <th>workclass</th>\n",
       "      <th>fnlwgt</th>\n",
       "      <th>education</th>\n",
       "      <th>education-num</th>\n",
       "      <th>marital-status</th>\n",
       "      <th>occupation</th>\n",
       "      <th>relationship</th>\n",
       "      <th>race</th>\n",
       "      <th>sex</th>\n",
       "      <th>capital-gain</th>\n",
       "      <th>capital-loss</th>\n",
       "      <th>hours-per-week</th>\n",
       "      <th>native-country</th>\n",
       "      <th>Yearly Income</th>\n",
       "    </tr>\n",
       "  </thead>\n",
       "  <tbody>\n",
       "    <tr>\n",
       "      <th>0</th>\n",
       "      <td>39</td>\n",
       "      <td>State-gov</td>\n",
       "      <td>77516</td>\n",
       "      <td>Bachelors</td>\n",
       "      <td>13</td>\n",
       "      <td>Never-married</td>\n",
       "      <td>Adm-clerical</td>\n",
       "      <td>Not-in-family</td>\n",
       "      <td>White</td>\n",
       "      <td>Male</td>\n",
       "      <td>2174</td>\n",
       "      <td>0</td>\n",
       "      <td>40</td>\n",
       "      <td>United-States</td>\n",
       "      <td>0</td>\n",
       "    </tr>\n",
       "    <tr>\n",
       "      <th>1</th>\n",
       "      <td>50</td>\n",
       "      <td>Self-emp-not-inc</td>\n",
       "      <td>83311</td>\n",
       "      <td>Bachelors</td>\n",
       "      <td>13</td>\n",
       "      <td>Married-civ-spouse</td>\n",
       "      <td>Exec-managerial</td>\n",
       "      <td>Husband</td>\n",
       "      <td>White</td>\n",
       "      <td>Male</td>\n",
       "      <td>0</td>\n",
       "      <td>0</td>\n",
       "      <td>13</td>\n",
       "      <td>United-States</td>\n",
       "      <td>0</td>\n",
       "    </tr>\n",
       "    <tr>\n",
       "      <th>2</th>\n",
       "      <td>38</td>\n",
       "      <td>Private</td>\n",
       "      <td>215646</td>\n",
       "      <td>HS-grad</td>\n",
       "      <td>9</td>\n",
       "      <td>Divorced</td>\n",
       "      <td>Handlers-cleaners</td>\n",
       "      <td>Not-in-family</td>\n",
       "      <td>White</td>\n",
       "      <td>Male</td>\n",
       "      <td>0</td>\n",
       "      <td>0</td>\n",
       "      <td>40</td>\n",
       "      <td>United-States</td>\n",
       "      <td>0</td>\n",
       "    </tr>\n",
       "    <tr>\n",
       "      <th>3</th>\n",
       "      <td>53</td>\n",
       "      <td>Private</td>\n",
       "      <td>234721</td>\n",
       "      <td>11th</td>\n",
       "      <td>7</td>\n",
       "      <td>Married-civ-spouse</td>\n",
       "      <td>Handlers-cleaners</td>\n",
       "      <td>Husband</td>\n",
       "      <td>Black</td>\n",
       "      <td>Male</td>\n",
       "      <td>0</td>\n",
       "      <td>0</td>\n",
       "      <td>40</td>\n",
       "      <td>United-States</td>\n",
       "      <td>0</td>\n",
       "    </tr>\n",
       "    <tr>\n",
       "      <th>4</th>\n",
       "      <td>28</td>\n",
       "      <td>Private</td>\n",
       "      <td>338409</td>\n",
       "      <td>Bachelors</td>\n",
       "      <td>13</td>\n",
       "      <td>Married-civ-spouse</td>\n",
       "      <td>Prof-specialty</td>\n",
       "      <td>Wife</td>\n",
       "      <td>Black</td>\n",
       "      <td>Female</td>\n",
       "      <td>0</td>\n",
       "      <td>0</td>\n",
       "      <td>40</td>\n",
       "      <td>Cuba</td>\n",
       "      <td>0</td>\n",
       "    </tr>\n",
       "    <tr>\n",
       "      <th>...</th>\n",
       "      <td>...</td>\n",
       "      <td>...</td>\n",
       "      <td>...</td>\n",
       "      <td>...</td>\n",
       "      <td>...</td>\n",
       "      <td>...</td>\n",
       "      <td>...</td>\n",
       "      <td>...</td>\n",
       "      <td>...</td>\n",
       "      <td>...</td>\n",
       "      <td>...</td>\n",
       "      <td>...</td>\n",
       "      <td>...</td>\n",
       "      <td>...</td>\n",
       "      <td>...</td>\n",
       "    </tr>\n",
       "    <tr>\n",
       "      <th>32556</th>\n",
       "      <td>27</td>\n",
       "      <td>Private</td>\n",
       "      <td>257302</td>\n",
       "      <td>Assoc-acdm</td>\n",
       "      <td>12</td>\n",
       "      <td>Married-civ-spouse</td>\n",
       "      <td>Tech-support</td>\n",
       "      <td>Wife</td>\n",
       "      <td>White</td>\n",
       "      <td>Female</td>\n",
       "      <td>0</td>\n",
       "      <td>0</td>\n",
       "      <td>38</td>\n",
       "      <td>United-States</td>\n",
       "      <td>0</td>\n",
       "    </tr>\n",
       "    <tr>\n",
       "      <th>32557</th>\n",
       "      <td>40</td>\n",
       "      <td>Private</td>\n",
       "      <td>154374</td>\n",
       "      <td>HS-grad</td>\n",
       "      <td>9</td>\n",
       "      <td>Married-civ-spouse</td>\n",
       "      <td>Machine-op-inspct</td>\n",
       "      <td>Husband</td>\n",
       "      <td>White</td>\n",
       "      <td>Male</td>\n",
       "      <td>0</td>\n",
       "      <td>0</td>\n",
       "      <td>40</td>\n",
       "      <td>United-States</td>\n",
       "      <td>1</td>\n",
       "    </tr>\n",
       "    <tr>\n",
       "      <th>32558</th>\n",
       "      <td>58</td>\n",
       "      <td>Private</td>\n",
       "      <td>151910</td>\n",
       "      <td>HS-grad</td>\n",
       "      <td>9</td>\n",
       "      <td>Widowed</td>\n",
       "      <td>Adm-clerical</td>\n",
       "      <td>Unmarried</td>\n",
       "      <td>White</td>\n",
       "      <td>Female</td>\n",
       "      <td>0</td>\n",
       "      <td>0</td>\n",
       "      <td>40</td>\n",
       "      <td>United-States</td>\n",
       "      <td>0</td>\n",
       "    </tr>\n",
       "    <tr>\n",
       "      <th>32559</th>\n",
       "      <td>22</td>\n",
       "      <td>Private</td>\n",
       "      <td>201490</td>\n",
       "      <td>HS-grad</td>\n",
       "      <td>9</td>\n",
       "      <td>Never-married</td>\n",
       "      <td>Adm-clerical</td>\n",
       "      <td>Own-child</td>\n",
       "      <td>White</td>\n",
       "      <td>Male</td>\n",
       "      <td>0</td>\n",
       "      <td>0</td>\n",
       "      <td>20</td>\n",
       "      <td>United-States</td>\n",
       "      <td>0</td>\n",
       "    </tr>\n",
       "    <tr>\n",
       "      <th>32560</th>\n",
       "      <td>52</td>\n",
       "      <td>Self-emp-inc</td>\n",
       "      <td>287927</td>\n",
       "      <td>HS-grad</td>\n",
       "      <td>9</td>\n",
       "      <td>Married-civ-spouse</td>\n",
       "      <td>Exec-managerial</td>\n",
       "      <td>Wife</td>\n",
       "      <td>White</td>\n",
       "      <td>Female</td>\n",
       "      <td>15024</td>\n",
       "      <td>0</td>\n",
       "      <td>40</td>\n",
       "      <td>United-States</td>\n",
       "      <td>1</td>\n",
       "    </tr>\n",
       "  </tbody>\n",
       "</table>\n",
       "<p>32561 rows × 15 columns</p>\n",
       "</div>"
      ],
      "text/plain": [
       "       age          workclass   fnlwgt    education   education-num  \\\n",
       "0       39          State-gov    77516    Bachelors              13   \n",
       "1       50   Self-emp-not-inc    83311    Bachelors              13   \n",
       "2       38            Private   215646      HS-grad               9   \n",
       "3       53            Private   234721         11th               7   \n",
       "4       28            Private   338409    Bachelors              13   \n",
       "...    ...                ...      ...          ...             ...   \n",
       "32556   27            Private   257302   Assoc-acdm              12   \n",
       "32557   40            Private   154374      HS-grad               9   \n",
       "32558   58            Private   151910      HS-grad               9   \n",
       "32559   22            Private   201490      HS-grad               9   \n",
       "32560   52       Self-emp-inc   287927      HS-grad               9   \n",
       "\n",
       "            marital-status          occupation    relationship    race  \\\n",
       "0            Never-married        Adm-clerical   Not-in-family   White   \n",
       "1       Married-civ-spouse     Exec-managerial         Husband   White   \n",
       "2                 Divorced   Handlers-cleaners   Not-in-family   White   \n",
       "3       Married-civ-spouse   Handlers-cleaners         Husband   Black   \n",
       "4       Married-civ-spouse      Prof-specialty            Wife   Black   \n",
       "...                    ...                 ...             ...     ...   \n",
       "32556   Married-civ-spouse        Tech-support            Wife   White   \n",
       "32557   Married-civ-spouse   Machine-op-inspct         Husband   White   \n",
       "32558              Widowed        Adm-clerical       Unmarried   White   \n",
       "32559        Never-married        Adm-clerical       Own-child   White   \n",
       "32560   Married-civ-spouse     Exec-managerial            Wife   White   \n",
       "\n",
       "           sex   capital-gain   capital-loss   hours-per-week  native-country  \\\n",
       "0         Male           2174              0               40   United-States   \n",
       "1         Male              0              0               13   United-States   \n",
       "2         Male              0              0               40   United-States   \n",
       "3         Male              0              0               40   United-States   \n",
       "4       Female              0              0               40            Cuba   \n",
       "...        ...            ...            ...              ...             ...   \n",
       "32556   Female              0              0               38   United-States   \n",
       "32557     Male              0              0               40   United-States   \n",
       "32558   Female              0              0               40   United-States   \n",
       "32559     Male              0              0               20   United-States   \n",
       "32560   Female          15024              0               40   United-States   \n",
       "\n",
       "       Yearly Income  \n",
       "0                  0  \n",
       "1                  0  \n",
       "2                  0  \n",
       "3                  0  \n",
       "4                  0  \n",
       "...              ...  \n",
       "32556              0  \n",
       "32557              1  \n",
       "32558              0  \n",
       "32559              0  \n",
       "32560              1  \n",
       "\n",
       "[32561 rows x 15 columns]"
      ]
     },
     "execution_count": 148,
     "metadata": {},
     "output_type": "execute_result"
    }
   ],
   "source": [
    "census"
   ]
  },
  {
   "cell_type": "code",
   "execution_count": 149,
   "id": "0778b686",
   "metadata": {},
   "outputs": [],
   "source": [
    "census[' occupation']=le.fit_transform(census[' occupation'])"
   ]
  },
  {
   "cell_type": "code",
   "execution_count": 150,
   "id": "c41c79c5",
   "metadata": {},
   "outputs": [
    {
     "data": {
      "text/html": [
       "<div>\n",
       "<style scoped>\n",
       "    .dataframe tbody tr th:only-of-type {\n",
       "        vertical-align: middle;\n",
       "    }\n",
       "\n",
       "    .dataframe tbody tr th {\n",
       "        vertical-align: top;\n",
       "    }\n",
       "\n",
       "    .dataframe thead th {\n",
       "        text-align: right;\n",
       "    }\n",
       "</style>\n",
       "<table border=\"1\" class=\"dataframe\">\n",
       "  <thead>\n",
       "    <tr style=\"text-align: right;\">\n",
       "      <th></th>\n",
       "      <th>age</th>\n",
       "      <th>workclass</th>\n",
       "      <th>fnlwgt</th>\n",
       "      <th>education</th>\n",
       "      <th>education-num</th>\n",
       "      <th>marital-status</th>\n",
       "      <th>occupation</th>\n",
       "      <th>relationship</th>\n",
       "      <th>race</th>\n",
       "      <th>sex</th>\n",
       "      <th>capital-gain</th>\n",
       "      <th>capital-loss</th>\n",
       "      <th>hours-per-week</th>\n",
       "      <th>native-country</th>\n",
       "      <th>Yearly Income</th>\n",
       "    </tr>\n",
       "  </thead>\n",
       "  <tbody>\n",
       "    <tr>\n",
       "      <th>0</th>\n",
       "      <td>39</td>\n",
       "      <td>State-gov</td>\n",
       "      <td>77516</td>\n",
       "      <td>Bachelors</td>\n",
       "      <td>13</td>\n",
       "      <td>Never-married</td>\n",
       "      <td>1</td>\n",
       "      <td>Not-in-family</td>\n",
       "      <td>White</td>\n",
       "      <td>Male</td>\n",
       "      <td>2174</td>\n",
       "      <td>0</td>\n",
       "      <td>40</td>\n",
       "      <td>United-States</td>\n",
       "      <td>0</td>\n",
       "    </tr>\n",
       "    <tr>\n",
       "      <th>1</th>\n",
       "      <td>50</td>\n",
       "      <td>Self-emp-not-inc</td>\n",
       "      <td>83311</td>\n",
       "      <td>Bachelors</td>\n",
       "      <td>13</td>\n",
       "      <td>Married-civ-spouse</td>\n",
       "      <td>4</td>\n",
       "      <td>Husband</td>\n",
       "      <td>White</td>\n",
       "      <td>Male</td>\n",
       "      <td>0</td>\n",
       "      <td>0</td>\n",
       "      <td>13</td>\n",
       "      <td>United-States</td>\n",
       "      <td>0</td>\n",
       "    </tr>\n",
       "    <tr>\n",
       "      <th>2</th>\n",
       "      <td>38</td>\n",
       "      <td>Private</td>\n",
       "      <td>215646</td>\n",
       "      <td>HS-grad</td>\n",
       "      <td>9</td>\n",
       "      <td>Divorced</td>\n",
       "      <td>6</td>\n",
       "      <td>Not-in-family</td>\n",
       "      <td>White</td>\n",
       "      <td>Male</td>\n",
       "      <td>0</td>\n",
       "      <td>0</td>\n",
       "      <td>40</td>\n",
       "      <td>United-States</td>\n",
       "      <td>0</td>\n",
       "    </tr>\n",
       "    <tr>\n",
       "      <th>3</th>\n",
       "      <td>53</td>\n",
       "      <td>Private</td>\n",
       "      <td>234721</td>\n",
       "      <td>11th</td>\n",
       "      <td>7</td>\n",
       "      <td>Married-civ-spouse</td>\n",
       "      <td>6</td>\n",
       "      <td>Husband</td>\n",
       "      <td>Black</td>\n",
       "      <td>Male</td>\n",
       "      <td>0</td>\n",
       "      <td>0</td>\n",
       "      <td>40</td>\n",
       "      <td>United-States</td>\n",
       "      <td>0</td>\n",
       "    </tr>\n",
       "    <tr>\n",
       "      <th>4</th>\n",
       "      <td>28</td>\n",
       "      <td>Private</td>\n",
       "      <td>338409</td>\n",
       "      <td>Bachelors</td>\n",
       "      <td>13</td>\n",
       "      <td>Married-civ-spouse</td>\n",
       "      <td>10</td>\n",
       "      <td>Wife</td>\n",
       "      <td>Black</td>\n",
       "      <td>Female</td>\n",
       "      <td>0</td>\n",
       "      <td>0</td>\n",
       "      <td>40</td>\n",
       "      <td>Cuba</td>\n",
       "      <td>0</td>\n",
       "    </tr>\n",
       "    <tr>\n",
       "      <th>...</th>\n",
       "      <td>...</td>\n",
       "      <td>...</td>\n",
       "      <td>...</td>\n",
       "      <td>...</td>\n",
       "      <td>...</td>\n",
       "      <td>...</td>\n",
       "      <td>...</td>\n",
       "      <td>...</td>\n",
       "      <td>...</td>\n",
       "      <td>...</td>\n",
       "      <td>...</td>\n",
       "      <td>...</td>\n",
       "      <td>...</td>\n",
       "      <td>...</td>\n",
       "      <td>...</td>\n",
       "    </tr>\n",
       "    <tr>\n",
       "      <th>32556</th>\n",
       "      <td>27</td>\n",
       "      <td>Private</td>\n",
       "      <td>257302</td>\n",
       "      <td>Assoc-acdm</td>\n",
       "      <td>12</td>\n",
       "      <td>Married-civ-spouse</td>\n",
       "      <td>13</td>\n",
       "      <td>Wife</td>\n",
       "      <td>White</td>\n",
       "      <td>Female</td>\n",
       "      <td>0</td>\n",
       "      <td>0</td>\n",
       "      <td>38</td>\n",
       "      <td>United-States</td>\n",
       "      <td>0</td>\n",
       "    </tr>\n",
       "    <tr>\n",
       "      <th>32557</th>\n",
       "      <td>40</td>\n",
       "      <td>Private</td>\n",
       "      <td>154374</td>\n",
       "      <td>HS-grad</td>\n",
       "      <td>9</td>\n",
       "      <td>Married-civ-spouse</td>\n",
       "      <td>7</td>\n",
       "      <td>Husband</td>\n",
       "      <td>White</td>\n",
       "      <td>Male</td>\n",
       "      <td>0</td>\n",
       "      <td>0</td>\n",
       "      <td>40</td>\n",
       "      <td>United-States</td>\n",
       "      <td>1</td>\n",
       "    </tr>\n",
       "    <tr>\n",
       "      <th>32558</th>\n",
       "      <td>58</td>\n",
       "      <td>Private</td>\n",
       "      <td>151910</td>\n",
       "      <td>HS-grad</td>\n",
       "      <td>9</td>\n",
       "      <td>Widowed</td>\n",
       "      <td>1</td>\n",
       "      <td>Unmarried</td>\n",
       "      <td>White</td>\n",
       "      <td>Female</td>\n",
       "      <td>0</td>\n",
       "      <td>0</td>\n",
       "      <td>40</td>\n",
       "      <td>United-States</td>\n",
       "      <td>0</td>\n",
       "    </tr>\n",
       "    <tr>\n",
       "      <th>32559</th>\n",
       "      <td>22</td>\n",
       "      <td>Private</td>\n",
       "      <td>201490</td>\n",
       "      <td>HS-grad</td>\n",
       "      <td>9</td>\n",
       "      <td>Never-married</td>\n",
       "      <td>1</td>\n",
       "      <td>Own-child</td>\n",
       "      <td>White</td>\n",
       "      <td>Male</td>\n",
       "      <td>0</td>\n",
       "      <td>0</td>\n",
       "      <td>20</td>\n",
       "      <td>United-States</td>\n",
       "      <td>0</td>\n",
       "    </tr>\n",
       "    <tr>\n",
       "      <th>32560</th>\n",
       "      <td>52</td>\n",
       "      <td>Self-emp-inc</td>\n",
       "      <td>287927</td>\n",
       "      <td>HS-grad</td>\n",
       "      <td>9</td>\n",
       "      <td>Married-civ-spouse</td>\n",
       "      <td>4</td>\n",
       "      <td>Wife</td>\n",
       "      <td>White</td>\n",
       "      <td>Female</td>\n",
       "      <td>15024</td>\n",
       "      <td>0</td>\n",
       "      <td>40</td>\n",
       "      <td>United-States</td>\n",
       "      <td>1</td>\n",
       "    </tr>\n",
       "  </tbody>\n",
       "</table>\n",
       "<p>32561 rows × 15 columns</p>\n",
       "</div>"
      ],
      "text/plain": [
       "       age          workclass   fnlwgt    education   education-num  \\\n",
       "0       39          State-gov    77516    Bachelors              13   \n",
       "1       50   Self-emp-not-inc    83311    Bachelors              13   \n",
       "2       38            Private   215646      HS-grad               9   \n",
       "3       53            Private   234721         11th               7   \n",
       "4       28            Private   338409    Bachelors              13   \n",
       "...    ...                ...      ...          ...             ...   \n",
       "32556   27            Private   257302   Assoc-acdm              12   \n",
       "32557   40            Private   154374      HS-grad               9   \n",
       "32558   58            Private   151910      HS-grad               9   \n",
       "32559   22            Private   201490      HS-grad               9   \n",
       "32560   52       Self-emp-inc   287927      HS-grad               9   \n",
       "\n",
       "            marital-status   occupation    relationship    race      sex  \\\n",
       "0            Never-married            1   Not-in-family   White     Male   \n",
       "1       Married-civ-spouse            4         Husband   White     Male   \n",
       "2                 Divorced            6   Not-in-family   White     Male   \n",
       "3       Married-civ-spouse            6         Husband   Black     Male   \n",
       "4       Married-civ-spouse           10            Wife   Black   Female   \n",
       "...                    ...          ...             ...     ...      ...   \n",
       "32556   Married-civ-spouse           13            Wife   White   Female   \n",
       "32557   Married-civ-spouse            7         Husband   White     Male   \n",
       "32558              Widowed            1       Unmarried   White   Female   \n",
       "32559        Never-married            1       Own-child   White     Male   \n",
       "32560   Married-civ-spouse            4            Wife   White   Female   \n",
       "\n",
       "        capital-gain   capital-loss   hours-per-week  native-country  \\\n",
       "0               2174              0               40   United-States   \n",
       "1                  0              0               13   United-States   \n",
       "2                  0              0               40   United-States   \n",
       "3                  0              0               40   United-States   \n",
       "4                  0              0               40            Cuba   \n",
       "...              ...            ...              ...             ...   \n",
       "32556              0              0               38   United-States   \n",
       "32557              0              0               40   United-States   \n",
       "32558              0              0               40   United-States   \n",
       "32559              0              0               20   United-States   \n",
       "32560          15024              0               40   United-States   \n",
       "\n",
       "       Yearly Income  \n",
       "0                  0  \n",
       "1                  0  \n",
       "2                  0  \n",
       "3                  0  \n",
       "4                  0  \n",
       "...              ...  \n",
       "32556              0  \n",
       "32557              1  \n",
       "32558              0  \n",
       "32559              0  \n",
       "32560              1  \n",
       "\n",
       "[32561 rows x 15 columns]"
      ]
     },
     "execution_count": 150,
     "metadata": {},
     "output_type": "execute_result"
    }
   ],
   "source": [
    "census"
   ]
  },
  {
   "cell_type": "code",
   "execution_count": 151,
   "id": "e0762271",
   "metadata": {},
   "outputs": [],
   "source": [
    "X=census[[' occupation']]\n",
    "Y=census[['Yearly Income']]\n"
   ]
  },
  {
   "cell_type": "code",
   "execution_count": 152,
   "id": "9460149f",
   "metadata": {},
   "outputs": [
    {
     "name": "stderr",
     "output_type": "stream",
     "text": [
      "C:\\Anaconda\\lib\\site-packages\\sklearn\\utils\\validation.py:63: DataConversionWarning: A column-vector y was passed when a 1d array was expected. Please change the shape of y to (n_samples, ), for example using ravel().\n",
      "  return f(*args, **kwargs)\n"
     ]
    },
    {
     "data": {
      "text/plain": [
       "LogisticRegression()"
      ]
     },
     "execution_count": 152,
     "metadata": {},
     "output_type": "execute_result"
    }
   ],
   "source": [
    "X_train,X_test,Y_train,Y_test=train_test_split(X,Y,test_size=0.35)\n",
    "Model=LogisticRegression()\n",
    "Model.fit(X_train,Y_train)\n"
   ]
  },
  {
   "cell_type": "code",
   "execution_count": 153,
   "id": "3bf6d8a7",
   "metadata": {},
   "outputs": [],
   "source": [
    "y_pred=Model.predict(X_test)"
   ]
  },
  {
   "cell_type": "code",
   "execution_count": 154,
   "id": "22e691af",
   "metadata": {},
   "outputs": [
    {
     "data": {
      "text/plain": [
       "array([0, 0, 0, ..., 0, 0, 0])"
      ]
     },
     "execution_count": 154,
     "metadata": {},
     "output_type": "execute_result"
    }
   ],
   "source": [
    "y_pred"
   ]
  },
  {
   "cell_type": "code",
   "execution_count": 155,
   "id": "7562d577",
   "metadata": {},
   "outputs": [
    {
     "data": {
      "text/plain": [
       "array([[8615,    0],\n",
       "       [2782,    0]], dtype=int64)"
      ]
     },
     "execution_count": 155,
     "metadata": {},
     "output_type": "execute_result"
    }
   ],
   "source": [
    "b=confusion_matrix(Y_test,y_pred)"
   ]
  },
  {
   "cell_type": "code",
   "execution_count": 156,
   "id": "22691064",
   "metadata": {},
   "outputs": [],
   "source": [
    "Accuracy=(b[0,0]+b[1,1])/(b[0,0]+b[0,1]+b[1,0]+b[1,1])"
   ]
  },
  {
   "cell_type": "code",
   "execution_count": 157,
   "id": "e2479d07",
   "metadata": {},
   "outputs": [
    {
     "data": {
      "text/plain": [
       "2760.0"
      ]
     },
     "execution_count": 157,
     "metadata": {},
     "output_type": "execute_result"
    }
   ],
   "source": [
    "Accuracy"
   ]
  },
  {
   "cell_type": "markdown",
   "id": "1536d327",
   "metadata": {},
   "source": [
    "## Dividing the Dataset into 80:20 ratio"
   ]
  },
  {
   "cell_type": "code",
   "execution_count": 158,
   "id": "75617d9f",
   "metadata": {},
   "outputs": [],
   "source": [
    "Y=census[['Yearly Income']]\n",
    "X=census[['age',' workclass',' education']]"
   ]
  },
  {
   "cell_type": "code",
   "execution_count": 159,
   "id": "c68acd9a",
   "metadata": {},
   "outputs": [
    {
     "name": "stderr",
     "output_type": "stream",
     "text": [
      "<ipython-input-159-3e8803cac1d4>:1: SettingWithCopyWarning: \n",
      "A value is trying to be set on a copy of a slice from a DataFrame.\n",
      "Try using .loc[row_indexer,col_indexer] = value instead\n",
      "\n",
      "See the caveats in the documentation: https://pandas.pydata.org/pandas-docs/stable/user_guide/indexing.html#returning-a-view-versus-a-copy\n",
      "  X[' workclass']=le.fit_transform(X[' workclass'])\n"
     ]
    }
   ],
   "source": [
    "X[' workclass']=le.fit_transform(X[' workclass'])"
   ]
  },
  {
   "cell_type": "code",
   "execution_count": 160,
   "id": "97719fff",
   "metadata": {},
   "outputs": [
    {
     "name": "stderr",
     "output_type": "stream",
     "text": [
      "<ipython-input-160-ef910b480a07>:1: SettingWithCopyWarning: \n",
      "A value is trying to be set on a copy of a slice from a DataFrame.\n",
      "Try using .loc[row_indexer,col_indexer] = value instead\n",
      "\n",
      "See the caveats in the documentation: https://pandas.pydata.org/pandas-docs/stable/user_guide/indexing.html#returning-a-view-versus-a-copy\n",
      "  X[' education']=le.fit_transform(X[' education'])\n"
     ]
    }
   ],
   "source": [
    "X[' education']=le.fit_transform(X[' education'])"
   ]
  },
  {
   "cell_type": "code",
   "execution_count": 161,
   "id": "c90c25d4",
   "metadata": {},
   "outputs": [],
   "source": [
    "X_train,X_test,Y_train,Y_test=train_test_split(X,Y,test_size=0.3)"
   ]
  },
  {
   "cell_type": "code",
   "execution_count": 162,
   "id": "8c746ff9",
   "metadata": {},
   "outputs": [],
   "source": [
    "Model=LogisticRegression()"
   ]
  },
  {
   "cell_type": "code",
   "execution_count": 163,
   "id": "cbc62403",
   "metadata": {},
   "outputs": [
    {
     "name": "stderr",
     "output_type": "stream",
     "text": [
      "C:\\Anaconda\\lib\\site-packages\\sklearn\\utils\\validation.py:63: DataConversionWarning: A column-vector y was passed when a 1d array was expected. Please change the shape of y to (n_samples, ), for example using ravel().\n",
      "  return f(*args, **kwargs)\n"
     ]
    },
    {
     "data": {
      "text/plain": [
       "LogisticRegression()"
      ]
     },
     "execution_count": 163,
     "metadata": {},
     "output_type": "execute_result"
    }
   ],
   "source": [
    "Model.fit(X_train,Y_train)"
   ]
  },
  {
   "cell_type": "code",
   "execution_count": 164,
   "id": "19827c5e",
   "metadata": {},
   "outputs": [],
   "source": [
    "y_pred=Model.predict(X_test)"
   ]
  },
  {
   "cell_type": "code",
   "execution_count": 165,
   "id": "7037545d",
   "metadata": {},
   "outputs": [
    {
     "data": {
      "text/plain": [
       "array([[7229,  201],\n",
       "       [2272,   67]], dtype=int64)"
      ]
     },
     "execution_count": 165,
     "metadata": {},
     "output_type": "execute_result"
    }
   ],
   "source": [
    "c0=confusion_matrix(Y_test,y_pred)"
   ]
  },
  {
   "cell_type": "code",
   "execution_count": 166,
   "id": "4261ad6b",
   "metadata": {},
   "outputs": [],
   "source": [
    "Accuracy_Score=(c0[0,0]+c[1,1])/(c[0,0]+c[1,1]+c[1,0]+c[0,1])"
   ]
  },
  {
   "cell_type": "code",
   "execution_count": 167,
   "id": "9a2fe990",
   "metadata": {},
   "outputs": [
    {
     "data": {
      "text/plain": [
       "0.743678984542942"
      ]
     },
     "execution_count": 167,
     "metadata": {},
     "output_type": "execute_result"
    }
   ],
   "source": [
    "Accuracy_Score"
   ]
  },
  {
   "cell_type": "markdown",
   "id": "c4342e1a",
   "metadata": {},
   "source": [
    "# Decision Tree"
   ]
  },
  {
   "cell_type": "code",
   "execution_count": 168,
   "id": "36631134",
   "metadata": {},
   "outputs": [],
   "source": [
    "Y=census[['Yearly Income']]\n",
    "X=census.iloc[:,:-1]"
   ]
  },
  {
   "cell_type": "code",
   "execution_count": 169,
   "id": "1ed5cc9f",
   "metadata": {},
   "outputs": [
    {
     "data": {
      "text/html": [
       "<div>\n",
       "<style scoped>\n",
       "    .dataframe tbody tr th:only-of-type {\n",
       "        vertical-align: middle;\n",
       "    }\n",
       "\n",
       "    .dataframe tbody tr th {\n",
       "        vertical-align: top;\n",
       "    }\n",
       "\n",
       "    .dataframe thead th {\n",
       "        text-align: right;\n",
       "    }\n",
       "</style>\n",
       "<table border=\"1\" class=\"dataframe\">\n",
       "  <thead>\n",
       "    <tr style=\"text-align: right;\">\n",
       "      <th></th>\n",
       "      <th>age</th>\n",
       "      <th>workclass</th>\n",
       "      <th>fnlwgt</th>\n",
       "      <th>education</th>\n",
       "      <th>education-num</th>\n",
       "      <th>marital-status</th>\n",
       "      <th>occupation</th>\n",
       "      <th>relationship</th>\n",
       "      <th>race</th>\n",
       "      <th>sex</th>\n",
       "      <th>capital-gain</th>\n",
       "      <th>capital-loss</th>\n",
       "      <th>hours-per-week</th>\n",
       "      <th>native-country</th>\n",
       "    </tr>\n",
       "  </thead>\n",
       "  <tbody>\n",
       "    <tr>\n",
       "      <th>0</th>\n",
       "      <td>39</td>\n",
       "      <td>State-gov</td>\n",
       "      <td>77516</td>\n",
       "      <td>Bachelors</td>\n",
       "      <td>13</td>\n",
       "      <td>Never-married</td>\n",
       "      <td>1</td>\n",
       "      <td>Not-in-family</td>\n",
       "      <td>White</td>\n",
       "      <td>Male</td>\n",
       "      <td>2174</td>\n",
       "      <td>0</td>\n",
       "      <td>40</td>\n",
       "      <td>United-States</td>\n",
       "    </tr>\n",
       "    <tr>\n",
       "      <th>1</th>\n",
       "      <td>50</td>\n",
       "      <td>Self-emp-not-inc</td>\n",
       "      <td>83311</td>\n",
       "      <td>Bachelors</td>\n",
       "      <td>13</td>\n",
       "      <td>Married-civ-spouse</td>\n",
       "      <td>4</td>\n",
       "      <td>Husband</td>\n",
       "      <td>White</td>\n",
       "      <td>Male</td>\n",
       "      <td>0</td>\n",
       "      <td>0</td>\n",
       "      <td>13</td>\n",
       "      <td>United-States</td>\n",
       "    </tr>\n",
       "    <tr>\n",
       "      <th>2</th>\n",
       "      <td>38</td>\n",
       "      <td>Private</td>\n",
       "      <td>215646</td>\n",
       "      <td>HS-grad</td>\n",
       "      <td>9</td>\n",
       "      <td>Divorced</td>\n",
       "      <td>6</td>\n",
       "      <td>Not-in-family</td>\n",
       "      <td>White</td>\n",
       "      <td>Male</td>\n",
       "      <td>0</td>\n",
       "      <td>0</td>\n",
       "      <td>40</td>\n",
       "      <td>United-States</td>\n",
       "    </tr>\n",
       "    <tr>\n",
       "      <th>3</th>\n",
       "      <td>53</td>\n",
       "      <td>Private</td>\n",
       "      <td>234721</td>\n",
       "      <td>11th</td>\n",
       "      <td>7</td>\n",
       "      <td>Married-civ-spouse</td>\n",
       "      <td>6</td>\n",
       "      <td>Husband</td>\n",
       "      <td>Black</td>\n",
       "      <td>Male</td>\n",
       "      <td>0</td>\n",
       "      <td>0</td>\n",
       "      <td>40</td>\n",
       "      <td>United-States</td>\n",
       "    </tr>\n",
       "    <tr>\n",
       "      <th>4</th>\n",
       "      <td>28</td>\n",
       "      <td>Private</td>\n",
       "      <td>338409</td>\n",
       "      <td>Bachelors</td>\n",
       "      <td>13</td>\n",
       "      <td>Married-civ-spouse</td>\n",
       "      <td>10</td>\n",
       "      <td>Wife</td>\n",
       "      <td>Black</td>\n",
       "      <td>Female</td>\n",
       "      <td>0</td>\n",
       "      <td>0</td>\n",
       "      <td>40</td>\n",
       "      <td>Cuba</td>\n",
       "    </tr>\n",
       "    <tr>\n",
       "      <th>...</th>\n",
       "      <td>...</td>\n",
       "      <td>...</td>\n",
       "      <td>...</td>\n",
       "      <td>...</td>\n",
       "      <td>...</td>\n",
       "      <td>...</td>\n",
       "      <td>...</td>\n",
       "      <td>...</td>\n",
       "      <td>...</td>\n",
       "      <td>...</td>\n",
       "      <td>...</td>\n",
       "      <td>...</td>\n",
       "      <td>...</td>\n",
       "      <td>...</td>\n",
       "    </tr>\n",
       "    <tr>\n",
       "      <th>32556</th>\n",
       "      <td>27</td>\n",
       "      <td>Private</td>\n",
       "      <td>257302</td>\n",
       "      <td>Assoc-acdm</td>\n",
       "      <td>12</td>\n",
       "      <td>Married-civ-spouse</td>\n",
       "      <td>13</td>\n",
       "      <td>Wife</td>\n",
       "      <td>White</td>\n",
       "      <td>Female</td>\n",
       "      <td>0</td>\n",
       "      <td>0</td>\n",
       "      <td>38</td>\n",
       "      <td>United-States</td>\n",
       "    </tr>\n",
       "    <tr>\n",
       "      <th>32557</th>\n",
       "      <td>40</td>\n",
       "      <td>Private</td>\n",
       "      <td>154374</td>\n",
       "      <td>HS-grad</td>\n",
       "      <td>9</td>\n",
       "      <td>Married-civ-spouse</td>\n",
       "      <td>7</td>\n",
       "      <td>Husband</td>\n",
       "      <td>White</td>\n",
       "      <td>Male</td>\n",
       "      <td>0</td>\n",
       "      <td>0</td>\n",
       "      <td>40</td>\n",
       "      <td>United-States</td>\n",
       "    </tr>\n",
       "    <tr>\n",
       "      <th>32558</th>\n",
       "      <td>58</td>\n",
       "      <td>Private</td>\n",
       "      <td>151910</td>\n",
       "      <td>HS-grad</td>\n",
       "      <td>9</td>\n",
       "      <td>Widowed</td>\n",
       "      <td>1</td>\n",
       "      <td>Unmarried</td>\n",
       "      <td>White</td>\n",
       "      <td>Female</td>\n",
       "      <td>0</td>\n",
       "      <td>0</td>\n",
       "      <td>40</td>\n",
       "      <td>United-States</td>\n",
       "    </tr>\n",
       "    <tr>\n",
       "      <th>32559</th>\n",
       "      <td>22</td>\n",
       "      <td>Private</td>\n",
       "      <td>201490</td>\n",
       "      <td>HS-grad</td>\n",
       "      <td>9</td>\n",
       "      <td>Never-married</td>\n",
       "      <td>1</td>\n",
       "      <td>Own-child</td>\n",
       "      <td>White</td>\n",
       "      <td>Male</td>\n",
       "      <td>0</td>\n",
       "      <td>0</td>\n",
       "      <td>20</td>\n",
       "      <td>United-States</td>\n",
       "    </tr>\n",
       "    <tr>\n",
       "      <th>32560</th>\n",
       "      <td>52</td>\n",
       "      <td>Self-emp-inc</td>\n",
       "      <td>287927</td>\n",
       "      <td>HS-grad</td>\n",
       "      <td>9</td>\n",
       "      <td>Married-civ-spouse</td>\n",
       "      <td>4</td>\n",
       "      <td>Wife</td>\n",
       "      <td>White</td>\n",
       "      <td>Female</td>\n",
       "      <td>15024</td>\n",
       "      <td>0</td>\n",
       "      <td>40</td>\n",
       "      <td>United-States</td>\n",
       "    </tr>\n",
       "  </tbody>\n",
       "</table>\n",
       "<p>32561 rows × 14 columns</p>\n",
       "</div>"
      ],
      "text/plain": [
       "       age          workclass   fnlwgt    education   education-num  \\\n",
       "0       39          State-gov    77516    Bachelors              13   \n",
       "1       50   Self-emp-not-inc    83311    Bachelors              13   \n",
       "2       38            Private   215646      HS-grad               9   \n",
       "3       53            Private   234721         11th               7   \n",
       "4       28            Private   338409    Bachelors              13   \n",
       "...    ...                ...      ...          ...             ...   \n",
       "32556   27            Private   257302   Assoc-acdm              12   \n",
       "32557   40            Private   154374      HS-grad               9   \n",
       "32558   58            Private   151910      HS-grad               9   \n",
       "32559   22            Private   201490      HS-grad               9   \n",
       "32560   52       Self-emp-inc   287927      HS-grad               9   \n",
       "\n",
       "            marital-status   occupation    relationship    race      sex  \\\n",
       "0            Never-married            1   Not-in-family   White     Male   \n",
       "1       Married-civ-spouse            4         Husband   White     Male   \n",
       "2                 Divorced            6   Not-in-family   White     Male   \n",
       "3       Married-civ-spouse            6         Husband   Black     Male   \n",
       "4       Married-civ-spouse           10            Wife   Black   Female   \n",
       "...                    ...          ...             ...     ...      ...   \n",
       "32556   Married-civ-spouse           13            Wife   White   Female   \n",
       "32557   Married-civ-spouse            7         Husband   White     Male   \n",
       "32558              Widowed            1       Unmarried   White   Female   \n",
       "32559        Never-married            1       Own-child   White     Male   \n",
       "32560   Married-civ-spouse            4            Wife   White   Female   \n",
       "\n",
       "        capital-gain   capital-loss   hours-per-week  native-country  \n",
       "0               2174              0               40   United-States  \n",
       "1                  0              0               13   United-States  \n",
       "2                  0              0               40   United-States  \n",
       "3                  0              0               40   United-States  \n",
       "4                  0              0               40            Cuba  \n",
       "...              ...            ...              ...             ...  \n",
       "32556              0              0               38   United-States  \n",
       "32557              0              0               40   United-States  \n",
       "32558              0              0               40   United-States  \n",
       "32559              0              0               20   United-States  \n",
       "32560          15024              0               40   United-States  \n",
       "\n",
       "[32561 rows x 14 columns]"
      ]
     },
     "execution_count": 169,
     "metadata": {},
     "output_type": "execute_result"
    }
   ],
   "source": [
    "X"
   ]
  },
  {
   "cell_type": "code",
   "execution_count": 170,
   "id": "a54f2578",
   "metadata": {},
   "outputs": [],
   "source": [
    "X[' workclass']=le.fit_transform(X[' workclass'])"
   ]
  },
  {
   "cell_type": "code",
   "execution_count": 171,
   "id": "8a334261",
   "metadata": {},
   "outputs": [],
   "source": [
    "X[' education']=le.fit_transform(X[' education'])"
   ]
  },
  {
   "cell_type": "code",
   "execution_count": 172,
   "id": "b3a20592",
   "metadata": {},
   "outputs": [],
   "source": [
    "X[' marital-status']=le.fit_transform(X[' marital-status'])"
   ]
  },
  {
   "cell_type": "code",
   "execution_count": 173,
   "id": "5cb23825",
   "metadata": {},
   "outputs": [],
   "source": [
    "X[' relationship']=le.fit_transform(X[' relationship'])"
   ]
  },
  {
   "cell_type": "code",
   "execution_count": 174,
   "id": "27564dbc",
   "metadata": {},
   "outputs": [],
   "source": [
    "X[' race']=le.fit_transform(X[' race'])"
   ]
  },
  {
   "cell_type": "code",
   "execution_count": 175,
   "id": "d19a5226",
   "metadata": {},
   "outputs": [],
   "source": [
    "X[' sex']=le.fit_transform(X[' sex'])"
   ]
  },
  {
   "cell_type": "code",
   "execution_count": 176,
   "id": "c20dc209",
   "metadata": {},
   "outputs": [],
   "source": [
    "X[' native-country']=le.fit_transform(X[' native-country'])"
   ]
  },
  {
   "cell_type": "code",
   "execution_count": 177,
   "id": "ff50a7b9",
   "metadata": {},
   "outputs": [],
   "source": [
    "Model=DecisionTreeClassifier()"
   ]
  },
  {
   "cell_type": "code",
   "execution_count": 178,
   "id": "d9b1f3d0",
   "metadata": {},
   "outputs": [],
   "source": [
    "X_train,X_test,Y_train,Y_test=train_test_split(X,Y,test_size=0.3)"
   ]
  },
  {
   "cell_type": "code",
   "execution_count": 179,
   "id": "e78da364",
   "metadata": {},
   "outputs": [
    {
     "data": {
      "text/plain": [
       "DecisionTreeClassifier()"
      ]
     },
     "execution_count": 179,
     "metadata": {},
     "output_type": "execute_result"
    }
   ],
   "source": [
    "Model.fit(X_train,Y_train)"
   ]
  },
  {
   "cell_type": "code",
   "execution_count": 180,
   "id": "d8aaad98",
   "metadata": {},
   "outputs": [],
   "source": [
    "y_pred=Model.predict(X_test)"
   ]
  },
  {
   "cell_type": "code",
   "execution_count": 181,
   "id": "5f643157",
   "metadata": {},
   "outputs": [
    {
     "data": {
      "text/plain": [
       "array([[6495,  968],\n",
       "       [ 867, 1439]], dtype=int64)"
      ]
     },
     "execution_count": 181,
     "metadata": {},
     "output_type": "execute_result"
    }
   ],
   "source": [
    "c1=confusion_matrix(Y_test,y_pred)"
   ]
  },
  {
   "cell_type": "code",
   "execution_count": 182,
   "id": "fd080154",
   "metadata": {},
   "outputs": [],
   "source": [
    "Accuracy_score=(c1[0,0]+c1[1,1])/(c[0,0]+c[0,1]+c[1,0]+c[1,1])"
   ]
  },
  {
   "cell_type": "code",
   "execution_count": 183,
   "id": "ae5d80b4",
   "metadata": {},
   "outputs": [
    {
     "data": {
      "text/plain": [
       "0.8056095813286928"
      ]
     },
     "execution_count": 183,
     "metadata": {},
     "output_type": "execute_result"
    }
   ],
   "source": [
    "Accuracy_score"
   ]
  },
  {
   "cell_type": "markdown",
   "id": "1bc63a95",
   "metadata": {},
   "source": [
    "# Random Forest"
   ]
  },
  {
   "cell_type": "code",
   "execution_count": 184,
   "id": "678d2fdf",
   "metadata": {},
   "outputs": [],
   "source": [
    "Y=census[['Yearly Income']]"
   ]
  },
  {
   "cell_type": "code",
   "execution_count": 185,
   "id": "ba356040",
   "metadata": {},
   "outputs": [],
   "source": [
    "X=census.iloc[:,:-1]"
   ]
  },
  {
   "cell_type": "code",
   "execution_count": 186,
   "id": "d5363f65",
   "metadata": {},
   "outputs": [],
   "source": [
    "X[' workclass']=le.fit_transform(X[' workclass'])"
   ]
  },
  {
   "cell_type": "code",
   "execution_count": 187,
   "id": "9574b1ce",
   "metadata": {},
   "outputs": [],
   "source": [
    "X[' education']=le.fit_transform(X[' education'])"
   ]
  },
  {
   "cell_type": "code",
   "execution_count": 188,
   "id": "bfd8b535",
   "metadata": {},
   "outputs": [],
   "source": [
    "X[' marital-status']=le.fit_transform(X[' marital-status'])"
   ]
  },
  {
   "cell_type": "code",
   "execution_count": 189,
   "id": "3746fb3c",
   "metadata": {},
   "outputs": [],
   "source": [
    "X[' relationship']=le.fit_transform(X[' relationship'])"
   ]
  },
  {
   "cell_type": "code",
   "execution_count": 190,
   "id": "a9bd9307",
   "metadata": {},
   "outputs": [],
   "source": [
    "X[' race']=le.fit_transform(X[' race'])"
   ]
  },
  {
   "cell_type": "code",
   "execution_count": 191,
   "id": "ae9927cd",
   "metadata": {},
   "outputs": [],
   "source": [
    "X[' sex']=le.fit_transform(X[' sex'])\n"
   ]
  },
  {
   "cell_type": "code",
   "execution_count": 192,
   "id": "de70db08",
   "metadata": {},
   "outputs": [],
   "source": [
    "X[' native-country']=le.fit_transform(X[' native-country'])"
   ]
  },
  {
   "cell_type": "code",
   "execution_count": 193,
   "id": "8c7f8439",
   "metadata": {},
   "outputs": [],
   "source": [
    "X_train,X_test,Y_train,Y_test=train_test_split(X,Y,test_size=0.2)"
   ]
  },
  {
   "cell_type": "code",
   "execution_count": 194,
   "id": "0e35bc8a",
   "metadata": {},
   "outputs": [],
   "source": [
    "Model=RandomForestClassifier(n_estimators=300)"
   ]
  },
  {
   "cell_type": "code",
   "execution_count": 195,
   "id": "10d7ddf2",
   "metadata": {},
   "outputs": [
    {
     "name": "stderr",
     "output_type": "stream",
     "text": [
      "<ipython-input-195-cd59fbcd4da9>:1: DataConversionWarning: A column-vector y was passed when a 1d array was expected. Please change the shape of y to (n_samples,), for example using ravel().\n",
      "  Model.fit(X_train,Y_train)\n"
     ]
    },
    {
     "data": {
      "text/plain": [
       "RandomForestClassifier(n_estimators=300)"
      ]
     },
     "execution_count": 195,
     "metadata": {},
     "output_type": "execute_result"
    }
   ],
   "source": [
    "Model.fit(X_train,Y_train)"
   ]
  },
  {
   "cell_type": "code",
   "execution_count": 196,
   "id": "2e7f31e0",
   "metadata": {},
   "outputs": [],
   "source": [
    "y_pred=Model.predict(X_test)"
   ]
  },
  {
   "cell_type": "code",
   "execution_count": 202,
   "id": "32124420",
   "metadata": {},
   "outputs": [],
   "source": [
    "c=confusion_matrix(Y_test,y_pred)"
   ]
  },
  {
   "cell_type": "code",
   "execution_count": 204,
   "id": "cbe8e998",
   "metadata": {},
   "outputs": [
    {
     "data": {
      "text/plain": [
       "array([[4577,  361],\n",
       "       [ 586,  989]], dtype=int64)"
      ]
     },
     "execution_count": 204,
     "metadata": {},
     "output_type": "execute_result"
    }
   ],
   "source": [
    "c"
   ]
  },
  {
   "cell_type": "code",
   "execution_count": 205,
   "id": "5266ecb2",
   "metadata": {},
   "outputs": [],
   "source": [
    "Accuracy_score=(c[0,0]+c[1,1])/(c[0,0]+c[0,1]+c[1,0]+c[1,1])"
   ]
  },
  {
   "cell_type": "code",
   "execution_count": 206,
   "id": "bc71f3fb",
   "metadata": {},
   "outputs": [
    {
     "data": {
      "text/plain": [
       "0.8545984953170582"
      ]
     },
     "execution_count": 206,
     "metadata": {},
     "output_type": "execute_result"
    }
   ],
   "source": [
    "Accuracy_score"
   ]
  }
 ],
 "metadata": {
  "kernelspec": {
   "display_name": "Python 3 (ipykernel)",
   "language": "python",
   "name": "python3"
  },
  "language_info": {
   "codemirror_mode": {
    "name": "ipython",
    "version": 3
   },
   "file_extension": ".py",
   "mimetype": "text/x-python",
   "name": "python",
   "nbconvert_exporter": "python",
   "pygments_lexer": "ipython3",
   "version": "3.9.12"
  }
 },
 "nbformat": 4,
 "nbformat_minor": 5
}
